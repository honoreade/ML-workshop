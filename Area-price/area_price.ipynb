{
 "cells": [
  {
   "cell_type": "code",
   "execution_count": 13,
   "id": "376e3832",
   "metadata": {},
   "outputs": [
    {
     "name": "stdout",
     "output_type": "stream",
     "text": [
      "Training model...\n",
      "Model trained.\n",
      "Enter area: 100\n",
      "Proped price: 219813.51\n"
     ]
    },
    {
     "name": "stderr",
     "output_type": "stream",
     "text": [
      "C:\\anaconda3\\lib\\site-packages\\sklearn\\base.py:450: UserWarning: X does not have valid feature names, but LinearRegression was fitted with feature names\n",
      "  warnings.warn(\n"
     ]
    }
   ],
   "source": [
    "import pandas as pd\n",
    "from sklearn import linear_model\n",
    "import pickle\n",
    "\n",
    "# load the dataset into memory\n",
    "training_dataset = pd.read_csv(\"area_price.csv\")\n",
    "\n",
    "regression_model = linear_model.LinearRegression()\n",
    "print (\"Training model...\")\n",
    "\n",
    "# model training\n",
    "regression_model.fit(training_dataset[['area']], training_dataset.price) \n",
    "print (\"Model trained.\")\n",
    "\n",
    "# ask user to enter an area and calculate\n",
    "# its price using our model\n",
    "input_area = int(input(\"Enter area: \"))\n",
    "proped_price = regression_model.predict([[input_area]])\n",
    "print (\"Proped price:\", round(proped_price[0], 2))"
   ]
  },
  {
   "cell_type": "code",
   "execution_count": 14,
   "id": "d4383b81",
   "metadata": {},
   "outputs": [
    {
     "name": "stdout",
     "output_type": "stream",
     "text": [
      "Model saved.\n"
     ]
    }
   ],
   "source": [
    "with open(\"area_model.pickle\", \"wb\") as file:\n",
    "    pickle.dump(regression_model, file)\n",
    "print (\"Model saved.\")"
   ]
  },
  {
   "cell_type": "code",
   "execution_count": 15,
   "id": "b1eb73bf",
   "metadata": {},
   "outputs": [
    {
     "name": "stdout",
     "output_type": "stream",
     "text": [
      "Enter area: 1000\n",
      "Proped price: 1975811.49\n"
     ]
    },
    {
     "name": "stderr",
     "output_type": "stream",
     "text": [
      "C:\\anaconda3\\lib\\site-packages\\sklearn\\base.py:450: UserWarning: X does not have valid feature names, but LinearRegression was fitted with feature names\n",
      "  warnings.warn(\n"
     ]
    }
   ],
   "source": [
    "# Import our model\n",
    "with open('area_model.pickle', \"rb\") as file:\n",
    "    regression_model = pickle.load(file)\n",
    "    \n",
    "# Ask the user to enter an area\n",
    "input_area = int(input(\"Enter area: \"))\n",
    "proped_price = regression_model.predict([[input_area]])\n",
    "print (\"Proped price:\", round(proped_price[0], 2))"
   ]
  }
 ],
 "metadata": {
  "kernelspec": {
   "display_name": "Python 3 (ipykernel)",
   "language": "python",
   "name": "python3"
  },
  "language_info": {
   "codemirror_mode": {
    "name": "ipython",
    "version": 3
   },
   "file_extension": ".py",
   "mimetype": "text/x-python",
   "name": "python",
   "nbconvert_exporter": "python",
   "pygments_lexer": "ipython3",
   "version": "3.9.13"
  }
 },
 "nbformat": 4,
 "nbformat_minor": 5
}

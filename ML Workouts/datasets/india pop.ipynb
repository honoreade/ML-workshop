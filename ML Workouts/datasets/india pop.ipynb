{
 "cells": [
  {
   "cell_type": "code",
   "execution_count": 6,
   "id": "441695e4",
   "metadata": {},
   "outputs": [],
   "source": [
    "import pandas as pd\n",
    "import numpy as np\n"
   ]
  },
  {
   "cell_type": "code",
   "execution_count": null,
   "id": "b7f092a6",
   "metadata": {},
   "outputs": [],
   "source": []
  },
  {
   "cell_type": "code",
   "execution_count": 10,
   "id": "8df17b32",
   "metadata": {},
   "outputs": [
    {
     "data": {
      "text/html": [
       "<div>\n",
       "<style scoped>\n",
       "    .dataframe tbody tr th:only-of-type {\n",
       "        vertical-align: middle;\n",
       "    }\n",
       "\n",
       "    .dataframe tbody tr th {\n",
       "        vertical-align: top;\n",
       "    }\n",
       "\n",
       "    .dataframe thead th {\n",
       "        text-align: right;\n",
       "    }\n",
       "</style>\n",
       "<table border=\"1\" class=\"dataframe\">\n",
       "  <thead>\n",
       "    <tr style=\"text-align: right;\">\n",
       "      <th></th>\n",
       "      <th>label</th>\n",
       "      <th>Life Expectancy</th>\n",
       "    </tr>\n",
       "  </thead>\n",
       "  <tbody>\n",
       "    <tr>\n",
       "      <th>0</th>\n",
       "      <td>2020</td>\n",
       "      <td>70.150</td>\n",
       "    </tr>\n",
       "    <tr>\n",
       "      <th>1</th>\n",
       "      <td>2019</td>\n",
       "      <td>70.910</td>\n",
       "    </tr>\n",
       "    <tr>\n",
       "      <th>2</th>\n",
       "      <td>2018</td>\n",
       "      <td>70.710</td>\n",
       "    </tr>\n",
       "    <tr>\n",
       "      <th>3</th>\n",
       "      <td>2017</td>\n",
       "      <td>70.467</td>\n",
       "    </tr>\n",
       "    <tr>\n",
       "      <th>4</th>\n",
       "      <td>2016</td>\n",
       "      <td>70.117</td>\n",
       "    </tr>\n",
       "    <tr>\n",
       "      <th>...</th>\n",
       "      <td>...</td>\n",
       "      <td>...</td>\n",
       "    </tr>\n",
       "    <tr>\n",
       "      <th>56</th>\n",
       "      <td>1964</td>\n",
       "      <td>46.184</td>\n",
       "    </tr>\n",
       "    <tr>\n",
       "      <th>57</th>\n",
       "      <td>1963</td>\n",
       "      <td>45.936</td>\n",
       "    </tr>\n",
       "    <tr>\n",
       "      <th>58</th>\n",
       "      <td>1962</td>\n",
       "      <td>45.659</td>\n",
       "    </tr>\n",
       "    <tr>\n",
       "      <th>59</th>\n",
       "      <td>1961</td>\n",
       "      <td>45.398</td>\n",
       "    </tr>\n",
       "    <tr>\n",
       "      <th>60</th>\n",
       "      <td>1960</td>\n",
       "      <td>45.218</td>\n",
       "    </tr>\n",
       "  </tbody>\n",
       "</table>\n",
       "<p>61 rows × 2 columns</p>\n",
       "</div>"
      ],
      "text/plain": [
       "    label  Life Expectancy\n",
       "0    2020           70.150\n",
       "1    2019           70.910\n",
       "2    2018           70.710\n",
       "3    2017           70.467\n",
       "4    2016           70.117\n",
       "..    ...              ...\n",
       "56   1964           46.184\n",
       "57   1963           45.936\n",
       "58   1962           45.659\n",
       "59   1961           45.398\n",
       "60   1960           45.218\n",
       "\n",
       "[61 rows x 2 columns]"
      ]
     },
     "execution_count": 10,
     "metadata": {},
     "output_type": "execute_result"
    }
   ],
   "source": [
    "lfcsv = pd.read_csv(r'C:\\Users\\Administrator\\Desktop\\india.csv')\n",
    "lfcsv"
   ]
  },
  {
   "cell_type": "code",
   "execution_count": 129,
   "id": "6895f97c",
   "metadata": {},
   "outputs": [],
   "source": [
    "x = lfcsv[['label']]\n",
    "y = lfcsv[['Life Expectancy']]"
   ]
  },
  {
   "cell_type": "markdown",
   "id": "022302a6",
   "metadata": {},
   "source": [
    "from sklearn.linear_model import LinearRegression\n",
    "lr = LinearRegression(random_state = 42)"
   ]
  },
  {
   "cell_type": "code",
   "execution_count": 117,
   "id": "2c88c25b",
   "metadata": {},
   "outputs": [
    {
     "name": "stderr",
     "output_type": "stream",
     "text": [
      "C:\\Users\\Administrator\\anaconda3\\lib\\site-packages\\sklearn\\base.py:450: UserWarning: X does not have valid feature names, but LinearRegression was fitted with feature names\n",
      "  warnings.warn(\n"
     ]
    },
    {
     "data": {
      "text/plain": [
       "array([[71.83393072],\n",
       "       [71.37271719],\n",
       "       [70.91150365],\n",
       "       [70.45029011],\n",
       "       [69.98907657],\n",
       "       [69.52786304],\n",
       "       [69.0666495 ],\n",
       "       [68.60543596],\n",
       "       [68.14422242],\n",
       "       [67.68300888],\n",
       "       [67.22179535],\n",
       "       [66.76058181],\n",
       "       [66.29936827],\n",
       "       [65.83815473],\n",
       "       [65.3769412 ],\n",
       "       [64.91572766],\n",
       "       [64.45451412],\n",
       "       [63.99330058],\n",
       "       [63.53208704],\n",
       "       [63.07087351],\n",
       "       [62.60965997],\n",
       "       [62.14844643],\n",
       "       [61.68723289],\n",
       "       [61.22601935],\n",
       "       [60.76480582],\n",
       "       [60.30359228],\n",
       "       [59.84237874],\n",
       "       [59.3811652 ],\n",
       "       [58.91995167],\n",
       "       [58.45873813],\n",
       "       [57.99752459],\n",
       "       [57.53631105],\n",
       "       [57.07509751],\n",
       "       [56.61388398],\n",
       "       [56.15267044],\n",
       "       [55.6914569 ],\n",
       "       [55.23024336],\n",
       "       [54.76902983],\n",
       "       [54.30781629],\n",
       "       [53.84660275],\n",
       "       [53.38538921],\n",
       "       [52.92417567],\n",
       "       [52.46296214],\n",
       "       [52.0017486 ],\n",
       "       [51.54053506],\n",
       "       [51.07932152],\n",
       "       [50.61810799],\n",
       "       [50.15689445],\n",
       "       [49.69568091],\n",
       "       [49.23446737],\n",
       "       [48.77325383],\n",
       "       [48.3120403 ],\n",
       "       [47.85082676],\n",
       "       [47.38961322],\n",
       "       [46.92839968],\n",
       "       [46.46718614],\n",
       "       [46.00597261],\n",
       "       [45.54475907],\n",
       "       [45.08354553],\n",
       "       [44.62233199],\n",
       "       [44.16111846]])"
      ]
     },
     "execution_count": 117,
     "metadata": {},
     "output_type": "execute_result"
    }
   ],
   "source": [
    "from sklearn.linear_model import LinearRegression \n",
    "lr = LinearRegression()\n",
    "lr.fit(x,y)\n",
    "lr.predict([[2100]])\n",
    "prediction = lr.predict(x)\n",
    "prediction\n"
   ]
  },
  {
   "cell_type": "code",
   "execution_count": 82,
   "id": "14ce4630",
   "metadata": {},
   "outputs": [
    {
     "name": "stdout",
     "output_type": "stream",
     "text": [
      "The model predictions are correct 99.4950058146866 %\n"
     ]
    }
   ],
   "source": [
    "#calculating r2 using sklearn\n",
    "from sklearn.metrics import r2_score\n",
    "print('The model predictions are correct',r2_score(y, prediction)*100,\"%\")\n"
   ]
  },
  {
   "cell_type": "code",
   "execution_count": 113,
   "id": "377aaab3",
   "metadata": {},
   "outputs": [
    {
     "data": {
      "text/plain": [
       "<Figure size 1000x400 with 0 Axes>"
      ]
     },
     "metadata": {},
     "output_type": "display_data"
    },
    {
     "data": {
      "image/png": "[encoded data removed]",
      "text/plain": [
       "<Figure size 640x480 with 1 Axes>"
      ]
     },
     "metadata": {},
     "output_type": "display_data"
    }
   ],
   "source": [
    "import matplotlib.pyplot as plt\n",
    "plt.figure(figsize =(10,4))\n",
    "\n",
    "fig, ax = plt.subplots()\n",
    "ax.grid()\n",
    "ax.text(0.5, 0.5, 'Indian Pop.', transform=ax.transAxes,\n",
    "        fontsize=20, color='gray', alpha=0.5,\n",
    "        ha='center', va='center', rotation=10)\n",
    "plt.plot(x, y)\n",
    "plt.plot(x, prediction)\n",
    "plt.xlabel(\"Time-yrs\")\n",
    "plt.ylabel(\"Life expectancy (years)\")\n",
    "plt.title(\"Life expectancy-Time variation in India\")\n",
    "plt.legend(['Time','Life expectancy'], loc='upper right')\n",
    "plt.show()\n",
    "\n",
    "# watermark='draft'"
   ]
  }
 ],
 "metadata": {
  "kernelspec": {
   "display_name": "Python 3 (ipykernel)",
   "language": "python",
   "name": "python3"
  },
  "language_info": {
   "codemirror_mode": {
    "name": "ipython",
    "version": 3
   },
   "file_extension": ".py",
   "mimetype": "text/x-python",
   "name": "python",
   "nbconvert_exporter": "python",
   "pygments_lexer": "ipython3",
   "version": "3.9.13"
  }
 },
 "nbformat": 4,
 "nbformat_minor": 5
}

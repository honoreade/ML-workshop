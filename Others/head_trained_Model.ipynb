{
 "cells": [
  {
   "cell_type": "code",
   "execution_count": 134,
   "id": "92873215",
   "metadata": {},
   "outputs": [
    {
     "name": "stdout",
     "output_type": "stream",
     "text": [
      "model is loading now!!!!!!\n",
      "The predicted values is:  [1637.67173359]\n"
     ]
    },
    {
     "name": "stderr",
     "output_type": "stream",
     "text": [
      "C:\\anaconda3\\lib\\site-packages\\sklearn\\base.py:450: UserWarning: X does not have valid feature names, but LinearRegression was fitted with feature names\n",
      "  warnings.warn(\n"
     ]
    }
   ],
   "source": [
    "import pandas as pd\n",
    "import numpy as np\n",
    "from sklearn.model_selection import train_test_split\n",
    "from sklearn.linear_model import LinearRegression\n",
    "import os\n",
    "import pickle\n",
    "\n",
    "path = 'headbrain1.csv'\n",
    "file = pd.read_csv(path)\n",
    "\n",
    "X= file.drop(['Brain Weight(grams)'],axis = 1)\n",
    "y=file['Brain Weight(grams)']\n",
    "\n",
    "    \n",
    "if os.path.exists(\"mymodel.pickle\"):\n",
    "    print(\"model is loading now!!!!!!\")\n",
    "    regressor = pickle.load(open(\"mymodel.pickle\",'rb'))\n",
    "    \n",
    "else:\n",
    "    print(\"model is being created.\")\n",
    "    \n",
    "#     X_train,X_test,y_train,y_test = train_test_split(X,y,test_size = 0.2,random_state = 42)\n",
    "#     from sklearn.tree import DecisionTreeRegressor \n",
    "#     # create a regressor object\n",
    "#     regressor = DecisionTreeRegressor() \n",
    "#     regressor.fit(X_train, y_train)\n",
    "    \n",
    "#     X_train,X_test,y_train,y_test = train_test_split(X,y,test_size=0.3)\n",
    "#     regressor = LinearRegression()\n",
    "#     regressor.fit(X_train, y_train)\n",
    "\n",
    "#     with open(\"mymodel.pickle\",\"wb\") as file:\n",
    "#         pickle.dump(regressor,file)\n",
    "        \n",
    "#     print(\"Model completed successfully.\")\n",
    "\n",
    "predictions = regressor.predict([[5000]])\n",
    "print(\"The predicted values is: \", predictions)"
   ]
  }
 ],
 "metadata": {
  "kernelspec": {
   "display_name": "Python 3 (ipykernel)",
   "language": "python",
   "name": "python3"
  },
  "language_info": {
   "codemirror_mode": {
    "name": "ipython",
    "version": 3
   },
   "file_extension": ".py",
   "mimetype": "text/x-python",
   "name": "python",
   "nbconvert_exporter": "python",
   "pygments_lexer": "ipython3",
   "version": "3.9.13"
  }
 },
 "nbformat": 4,
 "nbformat_minor": 5
}
